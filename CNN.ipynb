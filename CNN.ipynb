{
 "cells": [
  {
   "cell_type": "code",
   "execution_count": 1,
   "id": "8ea4fc1d",
   "metadata": {},
   "outputs": [],
   "source": [
    "import torch \n",
    "import torch.nn as nn\n",
    "import torchvision\n",
    "import torchvision.transforms as transforms\n",
    "import matplotlib.pyplot as plt\n",
    "import numpy as np\n",
    "import torch.nn.functional as F"
   ]
  },
  {
   "cell_type": "code",
   "execution_count": 2,
   "id": "b46345a6",
   "metadata": {},
   "outputs": [],
   "source": [
    "device = 'cpu'\n",
    "\n",
    "num_epochs = 50\n",
    "batch_size = 4\n",
    "learning_rate = 0.01"
   ]
  },
  {
   "cell_type": "code",
   "execution_count": 3,
   "id": "47e1de76",
   "metadata": {},
   "outputs": [
    {
     "name": "stdout",
     "output_type": "stream",
     "text": [
      "Files already downloaded and verified\n",
      "Files already downloaded and verified\n"
     ]
    }
   ],
   "source": [
    "transform = transforms.Compose([transforms.ToTensor(),\n",
    "                              transforms.Normalize((0.5, 0.5, 0.5), (0.5, 0.5, 0.5))])\n",
    "\n",
    "train_dataset = torchvision.datasets.CIFAR10(root='./data', train=True, download=True, transform=transform)\n",
    "test_dataset = train_dataset = torchvision.datasets.CIFAR10(root='./data', train=False, download=True, transform=transform)\n",
    "\n",
    "train_loader = torch.utils.data.DataLoader(train_dataset, batch_size=batch_size, shuffle=True)\n",
    "test_loader =  torch.utils.data.DataLoader(test_dataset, batch_size=batch_size, shuffle=True)\n",
    "\n",
    "classes = ('plane', 'car', 'bird', 'cat', 'deer',\n",
    "           'dog', 'frog', 'horse', 'ship', 'truck')\n",
    "\n"
   ]
  },
  {
   "cell_type": "code",
   "execution_count": 4,
   "id": "981ee6f5",
   "metadata": {},
   "outputs": [
    {
     "name": "stdout",
     "output_type": "stream",
     "text": [
      "epoch 1 / 50, step 2500/2500, loss = 1.9192\n",
      "epoch 2 / 50, step 2500/2500, loss = 1.7095\n",
      "epoch 3 / 50, step 2500/2500, loss = 1.6443\n",
      "epoch 4 / 50, step 2500/2500, loss = 2.1179\n",
      "epoch 5 / 50, step 2500/2500, loss = 2.0658\n",
      "epoch 6 / 50, step 2500/2500, loss = 1.3464\n",
      "epoch 7 / 50, step 2500/2500, loss = 1.3869\n",
      "epoch 8 / 50, step 2500/2500, loss = 0.8525\n",
      "epoch 9 / 50, step 2500/2500, loss = 1.0642\n",
      "epoch 10 / 50, step 2500/2500, loss = 0.9379\n",
      "epoch 11 / 50, step 2500/2500, loss = 1.7319\n",
      "epoch 12 / 50, step 2500/2500, loss = 0.4514\n",
      "epoch 13 / 50, step 2500/2500, loss = 0.5409\n",
      "epoch 14 / 50, step 2500/2500, loss = 1.3867\n",
      "epoch 15 / 50, step 2500/2500, loss = 1.5096\n",
      "epoch 16 / 50, step 2500/2500, loss = 0.8909\n",
      "epoch 17 / 50, step 2500/2500, loss = 0.5903\n",
      "epoch 18 / 50, step 2500/2500, loss = 1.5550\n",
      "epoch 19 / 50, step 2500/2500, loss = 0.9789\n",
      "epoch 20 / 50, step 2500/2500, loss = 0.3716\n",
      "epoch 21 / 50, step 2500/2500, loss = 0.1900\n",
      "epoch 22 / 50, step 2500/2500, loss = 1.3453\n",
      "epoch 23 / 50, step 2500/2500, loss = 0.0224\n",
      "epoch 24 / 50, step 2500/2500, loss = 0.4643\n",
      "epoch 25 / 50, step 2500/2500, loss = 0.0000\n",
      "epoch 26 / 50, step 2500/2500, loss = 0.1033\n",
      "epoch 27 / 50, step 2500/2500, loss = 0.0333\n",
      "epoch 28 / 50, step 2500/2500, loss = 0.0984\n",
      "epoch 29 / 50, step 2500/2500, loss = 0.0396\n",
      "epoch 30 / 50, step 2500/2500, loss = 0.0620\n",
      "epoch 31 / 50, step 2500/2500, loss = 2.1714\n",
      "epoch 32 / 50, step 2500/2500, loss = 0.0507\n",
      "epoch 33 / 50, step 2500/2500, loss = 0.0179\n",
      "epoch 34 / 50, step 2500/2500, loss = 0.5839\n",
      "epoch 35 / 50, step 2500/2500, loss = 0.5264\n",
      "epoch 36 / 50, step 2500/2500, loss = 0.0229\n",
      "epoch 37 / 50, step 2500/2500, loss = 0.5273\n",
      "epoch 38 / 50, step 2500/2500, loss = 0.0001\n",
      "epoch 39 / 50, step 2500/2500, loss = 0.0429\n",
      "epoch 40 / 50, step 2500/2500, loss = 1.1362\n",
      "epoch 41 / 50, step 2500/2500, loss = 0.5323\n",
      "epoch 42 / 50, step 2500/2500, loss = 0.7070\n",
      "epoch 43 / 50, step 2500/2500, loss = 0.4109\n",
      "epoch 44 / 50, step 2500/2500, loss = 1.5385\n",
      "epoch 45 / 50, step 2500/2500, loss = 0.2830\n",
      "epoch 46 / 50, step 2500/2500, loss = 0.0171\n",
      "epoch 47 / 50, step 2500/2500, loss = 0.0024\n",
      "epoch 48 / 50, step 2500/2500, loss = 0.3945\n",
      "epoch 49 / 50, step 2500/2500, loss = 0.0011\n",
      "epoch 50 / 50, step 2500/2500, loss = 0.7191\n"
     ]
    }
   ],
   "source": [
    "class CNN(nn.Module):\n",
    "    def __init__(self):\n",
    "        super(CNN, self).__init__()\n",
    "        self.conv1 = nn.Conv2d(3,6,5)\n",
    "        self.pool = nn.MaxPool2d(2,2)\n",
    "        self.conv2 = nn.Conv2d(6,16,5)\n",
    "        self.fc1 = nn.Linear(16*5*5, 120)\n",
    "        self.fc2 = nn.Linear(120, 84)\n",
    "        self.fc3 = nn.Linear(84, 10)\n",
    "    \n",
    "    def forward(self, x):\n",
    "        x = self.pool(F.relu(self.conv1(x)))\n",
    "        x = self.pool(F.relu(self.conv2(x)))\n",
    "        x = x.view(-1, 16*5*5)\n",
    "        x = F.relu(self.fc1(x))\n",
    "        x = F.relu(self.fc2(x))\n",
    "        x = self.fc3(x)\n",
    "        return x\n",
    "    \n",
    "model = CNN().to(device)\n",
    "criterion = nn.CrossEntropyLoss()\n",
    "optimizer = torch.optim.SGD(model.parameters(), lr=learning_rate)\n",
    "\n",
    "n_total_steps = len(train_loader)\n",
    "\n",
    "for epoch in range(num_epochs):\n",
    "    for i, (images, labels) in enumerate(train_loader):\n",
    "        images = images.to(device)\n",
    "        labels = labels.to(device)\n",
    "        \n",
    "        #forward\n",
    "        outputs = model(images)\n",
    "        #loss\n",
    "        loss = criterion(outputs, labels)\n",
    "        \n",
    "        #back\n",
    "        optimizer.zero_grad()\n",
    "        loss.backward()\n",
    "        optimizer.step()\n",
    "        \n",
    "        if (i+1) % 2500 == 0:\n",
    "            print(f'epoch {epoch+1} / {num_epochs}, step {i+1}/{n_total_steps}, loss = {loss.item():.4f}')\n",
    "            \n",
    "\n",
    "with torch.no_grad():\n",
    "    n_correct = 0\n",
    "    n_samples = 0\n",
    "    for images, labels in test_loader:\n",
    "        images = images.to(device)\n",
    "        labels = labels.to(device)\n",
    "        output = model(images)\n",
    "        #value and index which is why we dont need first\n",
    "        _, predictions = torch.max(output, 1)\n",
    "        n_samples += labels.shape[0]\n",
    "        n_correct += (predictions==labels).sum().item()\n",
    "    "
   ]
  },
  {
   "cell_type": "code",
   "execution_count": 5,
   "id": "855951b6",
   "metadata": {},
   "outputs": [
    {
     "name": "stdout",
     "output_type": "stream",
     "text": [
      "94.31 %\n"
     ]
    }
   ],
   "source": [
    "acc = n_correct/n_samples * 100.0\n",
    "print(acc, '%')"
   ]
  },
  {
   "cell_type": "code",
   "execution_count": null,
   "id": "167b7447",
   "metadata": {},
   "outputs": [],
   "source": []
  }
 ],
 "metadata": {
  "kernelspec": {
   "display_name": "Python 3 (ipykernel)",
   "language": "python",
   "name": "python3"
  },
  "language_info": {
   "codemirror_mode": {
    "name": "ipython",
    "version": 3
   },
   "file_extension": ".py",
   "mimetype": "text/x-python",
   "name": "python",
   "nbconvert_exporter": "python",
   "pygments_lexer": "ipython3",
   "version": "3.9.7"
  }
 },
 "nbformat": 4,
 "nbformat_minor": 5
}
